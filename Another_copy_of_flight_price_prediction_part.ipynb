{
  "nbformat": 4,
  "nbformat_minor": 0,
  "metadata": {
    "colab": {
      "provenance": [],
      "gpuType": "T4",
      "authorship_tag": "ABX9TyM7IuR59KuEqcfKdSINCy6J",
      "include_colab_link": true
    },
    "kernelspec": {
      "name": "python3",
      "display_name": "Python 3"
    },
    "language_info": {
      "name": "python"
    },
    "accelerator": "GPU"
  },
  "cells": [
    {
      "cell_type": "markdown",
      "metadata": {
        "id": "view-in-github",
        "colab_type": "text"
      },
      "source": [
        "<a href=\"https://colab.research.google.com/github/Farhan-ANWAR0611/Productionization-of-ML-Systems/blob/main/Another_copy_of_flight_price_prediction_part.ipynb\" target=\"_parent\"><img src=\"https://colab.research.google.com/assets/colab-badge.svg\" alt=\"Open In Colab\"/></a>"
      ]
    },
    {
      "cell_type": "markdown",
      "source": [
        "# **Flight price prediction part**"
      ],
      "metadata": {
        "id": "sRFCkH3RLV2W"
      }
    },
    {
      "cell_type": "code",
      "execution_count": null,
      "metadata": {
        "colab": {
          "base_uri": "https://localhost:8080/"
        },
        "id": "pGDjIxiEBTPj",
        "outputId": "975b5e05-c800-4f9d-bd4a-7fd706ef33e4"
      },
      "outputs": [
        {
          "output_type": "execute_result",
          "data": {
            "text/plain": [
              "['users.csv', 'hotels.csv', 'flights.csv']"
            ]
          },
          "metadata": {},
          "execution_count": 2
        }
      ],
      "source": [
        "# How to extract the uploaded zip file and list the contents?\n",
        "\n",
        "# Unzipping the dataset\n",
        "import zipfile\n",
        "import os\n",
        "\n",
        "zip_path = '/content/travel_capstone.zip'  # Path to uploaded zip\n",
        "extract_path = '/content/travel_capstone'\n",
        "\n",
        "with zipfile.ZipFile(zip_path, 'r') as zip_ref:\n",
        "    zip_ref.extractall(extract_path)\n",
        "\n",
        "# Listing extracted files\n",
        "os.listdir(extract_path)\n"
      ]
    },
    {
      "cell_type": "markdown",
      "source": [
        "This will extract the dataset files (users.csv, flights.csv, hotels.csv) into /content/travel_capstone and display the filenames.\n",
        "\n"
      ],
      "metadata": {
        "id": "YN0PNNK-E3Li"
      }
    },
    {
      "cell_type": "code",
      "source": [
        "# Load All Three CSV Files into Pandas DataFrames\n",
        "# Import pandas\n",
        "import pandas as pd\n",
        "\n",
        "# Load the datasets\n",
        "users_df = pd.read_csv('/content/travel_capstone/users.csv')\n",
        "flights_df = pd.read_csv('/content/travel_capstone/flights.csv')\n",
        "hotels_df = pd.read_csv('/content/travel_capstone/hotels.csv')\n",
        "\n"
      ],
      "metadata": {
        "id": "21OlnO66E0hi"
      },
      "execution_count": null,
      "outputs": []
    },
    {
      "cell_type": "markdown",
      "source": [
        "This code reads the extracted .csv files and stores them into DataFrames:\n",
        "\n",
        "users_df for user information\n",
        "\n",
        "flights_df for flight data\n",
        "\n",
        "hotels_df for hotel bookings"
      ],
      "metadata": {
        "id": "zX34Heg5FFCf"
      }
    },
    {
      "cell_type": "code",
      "source": [
        "# View Shape and Preview of Each Dataset\n",
        "# Checking the shape and head of each dataset\n",
        "print(\"📊 Users Dataset:\", users_df.shape)\n",
        "print(users_df.head(), \"\\n\")\n",
        "\n",
        "print(\"🛫 Flights Dataset:\", flights_df.shape)\n",
        "print(flights_df.head(), \"\\n\")\n",
        "\n",
        "print(\"🏨 Hotels Dataset:\", hotels_df.shape)\n",
        "print(hotels_df.head())\n"
      ],
      "metadata": {
        "colab": {
          "base_uri": "https://localhost:8080/"
        },
        "id": "XPV1XNitFCou",
        "outputId": "6a413bb1-4ad7-4a3d-8e6a-20e187164882"
      },
      "execution_count": null,
      "outputs": [
        {
          "output_type": "stream",
          "name": "stdout",
          "text": [
            "📊 Users Dataset: (1340, 5)\n",
            "   code company             name  gender  age\n",
            "0     0    4You        Roy Braun    male   21\n",
            "1     1    4You   Joseph Holsten    male   37\n",
            "2     2    4You    Wilma Mcinnis  female   48\n",
            "3     3    4You     Paula Daniel  female   23\n",
            "4     4    4You  Patricia Carson  female   44 \n",
            "\n",
            "🛫 Flights Dataset: (271888, 10)\n",
            "   travelCode  userCode                from                  to  flightType  \\\n",
            "0           0         0         Recife (PE)  Florianopolis (SC)  firstClass   \n",
            "1           0         0  Florianopolis (SC)         Recife (PE)  firstClass   \n",
            "2           1         0       Brasilia (DF)  Florianopolis (SC)  firstClass   \n",
            "3           1         0  Florianopolis (SC)       Brasilia (DF)  firstClass   \n",
            "4           2         0        Aracaju (SE)       Salvador (BH)  firstClass   \n",
            "\n",
            "     price  time  distance       agency        date  \n",
            "0  1434.38  1.76    676.53  FlyingDrops  09/26/2019  \n",
            "1  1292.29  1.76    676.53  FlyingDrops  09/30/2019  \n",
            "2  1487.52  1.66    637.56      CloudFy  10/03/2019  \n",
            "3  1127.36  1.66    637.56      CloudFy  10/04/2019  \n",
            "4  1684.05  2.16    830.86      CloudFy  10/10/2019   \n",
            "\n",
            "🏨 Hotels Dataset: (40552, 8)\n",
            "   travelCode  userCode     name               place  days   price    total  \\\n",
            "0           0         0  Hotel A  Florianopolis (SC)     4  313.02  1252.08   \n",
            "1           2         0  Hotel K       Salvador (BH)     2  263.41   526.82   \n",
            "2           7         0  Hotel K       Salvador (BH)     3  263.41   790.23   \n",
            "3          11         0  Hotel K       Salvador (BH)     4  263.41  1053.64   \n",
            "4          13         0  Hotel A  Florianopolis (SC)     1  313.02   313.02   \n",
            "\n",
            "         date  \n",
            "0  09/26/2019  \n",
            "1  10/10/2019  \n",
            "2  11/14/2019  \n",
            "3  12/12/2019  \n",
            "4  12/26/2019  \n"
          ]
        }
      ]
    },
    {
      "cell_type": "code",
      "source": [
        "# Check for Missing (Null) Values\n",
        "\n",
        "# Check for missing values\n",
        "print(\"❓ Missing values in Users Dataset:\\n\", users_df.isnull().sum(), \"\\n\")\n",
        "print(\"❓ Missing values in Flights Dataset:\\n\", flights_df.isnull().sum(), \"\\n\")\n",
        "print(\"❓ Missing values in Hotels Dataset:\\n\", hotels_df.isnull().sum())\n"
      ],
      "metadata": {
        "colab": {
          "base_uri": "https://localhost:8080/"
        },
        "id": "tcw0PkU5FPYP",
        "outputId": "9f523190-9092-42df-9050-8c6e79dd7ece"
      },
      "execution_count": null,
      "outputs": [
        {
          "output_type": "stream",
          "name": "stdout",
          "text": [
            "❓ Missing values in Users Dataset:\n",
            " code       0\n",
            "company    0\n",
            "name       0\n",
            "gender     0\n",
            "age        0\n",
            "dtype: int64 \n",
            "\n",
            "❓ Missing values in Flights Dataset:\n",
            " travelCode    0\n",
            "userCode      0\n",
            "from          0\n",
            "to            0\n",
            "flightType    0\n",
            "price         0\n",
            "time          0\n",
            "distance      0\n",
            "agency        0\n",
            "date          0\n",
            "dtype: int64 \n",
            "\n",
            "❓ Missing values in Hotels Dataset:\n",
            " travelCode    0\n",
            "userCode      0\n",
            "name          0\n",
            "place         0\n",
            "days          0\n",
            "price         0\n",
            "total         0\n",
            "date          0\n",
            "dtype: int64\n"
          ]
        }
      ]
    },
    {
      "cell_type": "markdown",
      "source": [
        "No missing values in any of the datasets — that makes preprocessing much smoother."
      ],
      "metadata": {
        "id": "m7ivbtSxFhfb"
      }
    },
    {
      "cell_type": "code",
      "source": [
        "# Check Data Types and Unique Categorical Values\n",
        "# Check data types of all datasets\n",
        "print(\"📌 Users Data Types:\\n\", users_df.dtypes, \"\\n\")\n",
        "print(\"📌 Flights Data Types:\\n\", flights_df.dtypes, \"\\n\")\n",
        "print(\"📌 Hotels Data Types:\\n\", hotels_df.dtypes, \"\\n\")\n",
        "\n",
        "# Check unique values in key categorical columns\n",
        "print(\"🛫 Unique Flight Types:\", flights_df['flightType'].unique())\n",
        "print(\"✈️ Flight Agencies:\", flights_df['agency'].unique())\n",
        "print(\"👥 Genders:\", users_df['gender'].unique())\n"
      ],
      "metadata": {
        "colab": {
          "base_uri": "https://localhost:8080/"
        },
        "id": "qtm-m_fUFiVY",
        "outputId": "85aff8ac-a7a4-454f-d778-953e988a712e"
      },
      "execution_count": null,
      "outputs": [
        {
          "output_type": "stream",
          "name": "stdout",
          "text": [
            "📌 Users Data Types:\n",
            " code        int64\n",
            "company    object\n",
            "name       object\n",
            "gender     object\n",
            "age         int64\n",
            "dtype: object \n",
            "\n",
            "📌 Flights Data Types:\n",
            " travelCode      int64\n",
            "userCode        int64\n",
            "from           object\n",
            "to             object\n",
            "flightType     object\n",
            "price         float64\n",
            "time          float64\n",
            "distance      float64\n",
            "agency         object\n",
            "date           object\n",
            "dtype: object \n",
            "\n",
            "📌 Hotels Data Types:\n",
            " travelCode      int64\n",
            "userCode        int64\n",
            "name           object\n",
            "place          object\n",
            "days            int64\n",
            "price         float64\n",
            "total         float64\n",
            "date           object\n",
            "dtype: object \n",
            "\n",
            "🛫 Unique Flight Types: ['firstClass' 'economic' 'premium']\n",
            "✈️ Flight Agencies: ['FlyingDrops' 'CloudFy' 'Rainbow']\n",
            "👥 Genders: ['male' 'female' 'none']\n"
          ]
        }
      ]
    },
    {
      "cell_type": "code",
      "source": [
        "#Understand Relationships Between Datasets (Foreign Keys)\n",
        "# Relationship check: userCode in flights and hotels vs code in users\n",
        "print(\"🧍‍♂️ Unique Users in Flights:\", flights_df['userCode'].nunique())\n",
        "print(\"🧍‍♂️ Unique Users in Hotels:\", hotels_df['userCode'].nunique())\n",
        "print(\"🧍‍♂️ Unique Users in Users Dataset:\", users_df['code'].nunique(), \"\\n\")\n",
        "\n",
        "# Relationship check: travelCode between flights and hotels\n",
        "print(\"🧳 Unique Travel Codes in Flights:\", flights_df['travelCode'].nunique())\n",
        "print(\"🧳 Unique Travel Codes in Hotels:\", hotels_df['travelCode'].nunique())\n"
      ],
      "metadata": {
        "colab": {
          "base_uri": "https://localhost:8080/"
        },
        "id": "oVz8QcDAF0mP",
        "outputId": "b19b55ae-f235-4364-e0cd-56d0f230070c"
      },
      "execution_count": null,
      "outputs": [
        {
          "output_type": "stream",
          "name": "stdout",
          "text": [
            "🧍‍♂️ Unique Users in Flights: 1335\n",
            "🧍‍♂️ Unique Users in Hotels: 1310\n",
            "🧍‍♂️ Unique Users in Users Dataset: 1340 \n",
            "\n",
            "🧳 Unique Travel Codes in Flights: 135944\n",
            "🧳 Unique Travel Codes in Hotels: 40552\n"
          ]
        }
      ]
    },
    {
      "cell_type": "markdown",
      "source": [
        "Confirms if userCode in flights_df and hotels_df maps to code in users_df\n",
        "\n",
        "Checks how many travel codes overlap — useful for future merging or sequence tracking\n",
        "\n"
      ],
      "metadata": {
        "id": "j1dRJ3ZDF0QR"
      }
    },
    {
      "cell_type": "code",
      "source": [
        "# Step 2: Focused EDA for Flight Price Prediction using flights_df.\n",
        "#Explore Feature Distributions and Correlations in flights_df\n",
        "\n",
        "import matplotlib.pyplot as plt\n",
        "import seaborn as sns\n",
        "\n",
        "# Set plot style\n",
        "sns.set(style=\"whitegrid\")\n",
        "\n",
        "# Plot distribution of flight price\n",
        "plt.figure(figsize=(8, 5))\n",
        "sns.histplot(flights_df['price'], kde=True, color='skyblue')\n",
        "plt.title(\"Distribution of Flight Price\")\n",
        "plt.xlabel(\"Price\")\n",
        "plt.ylabel(\"Frequency\")\n",
        "plt.show()\n",
        "\n",
        "# Plot distribution of flight distance\n",
        "plt.figure(figsize=(8, 5))\n",
        "sns.histplot(flights_df['distance'], kde=True, color='salmon')\n",
        "plt.title(\"Distribution of Flight Distance\")\n",
        "plt.xlabel(\"Distance\")\n",
        "plt.ylabel(\"Frequency\")\n",
        "plt.show()\n"
      ],
      "metadata": {
        "colab": {
          "base_uri": "https://localhost:8080/",
          "height": 975
        },
        "id": "sPzCFhj6GWK-",
        "outputId": "275db436-38f5-4205-9550-9116bc087952"
      },
      "execution_count": null,
      "outputs": [
        {
          "output_type": "display_data",
          "data": {
            "text/plain": [
              "<Figure size 800x500 with 1 Axes>"
            ],
            "image/png": "[encoded data removed]"
          },
          "metadata": {}
        },
        {
          "output_type": "display_data",
          "data": {
            "text/plain": [
              "<Figure size 800x500 with 1 Axes>"
            ],
            "image/png": "[encoded data removed]"
          },
          "metadata": {}
        }
      ]
    },
    {
      "cell_type": "markdown",
      "source": [
        "A clear right-skewed distribution of price may have been observed, which indicates that most flight prices are lower, with a few very expensive outliers.\n",
        "\n",
        "The distribution of distance might also appear skewed, depending on how short- and long-haul flights are spread in the dataset.\n",
        "\n",
        "It has been noted that skewed distributions may affect model performance. In such cases, log transformation can be considered.\n",
        "\n"
      ],
      "metadata": {
        "id": "dJH1PCWMG9Uq"
      }
    },
    {
      "cell_type": "code",
      "source": [
        "# Check Correlation Between Numerical Features and price\n",
        "# Which numerical features are correlated with flight price?\n",
        "# Selecting only numerical columns\n",
        "numeric_cols = flights_df.select_dtypes(include=['int64', 'float64'])\n",
        "\n",
        "# Correlation matrix\n",
        "plt.figure(figsize=(8, 6))\n",
        "sns.heatmap(numeric_cols.corr(), annot=True, cmap='YlGnBu', fmt='.2f')\n",
        "plt.title(\"Correlation Heatmap - Numerical Features\")\n",
        "plt.show()\n",
        "\n"
      ],
      "metadata": {
        "colab": {
          "base_uri": "https://localhost:8080/",
          "height": 549
        },
        "id": "120Lm-JKG-QP",
        "outputId": "788471bf-6397-4691-f324-11413969ea18"
      },
      "execution_count": null,
      "outputs": [
        {
          "output_type": "display_data",
          "data": {
            "text/plain": [
              "<Figure size 800x600 with 2 Axes>"
            ],
            "image/png": "[encoded data removed]"
          },
          "metadata": {}
        }
      ]
    },
    {
      "cell_type": "markdown",
      "source": [
        "A moderate positive correlation has been observed between price and time (0.64).\n",
        "\n",
        "A similar correlation (0.64) has been found between price and distance, which aligns with real-world expectations: longer flights tend to be more expensive.\n",
        "\n",
        "travelCode and userCode show very weak correlation with price, as they are identifiers and should not be used directly in the regression model."
      ],
      "metadata": {
        "id": "-jZ2cwcXHUMS"
      }
    },
    {
      "cell_type": "code",
      "source": [
        "# Explore Categorical Features in flights_df\n",
        "# What are the most common values in the categorical columns?\n",
        "\n",
        "# Checking value counts of key categorical features\n",
        "print(\"🛫 Origin Cities (from):\\n\", flights_df['from'].value_counts().head(), \"\\n\")\n",
        "print(\"🛬 Destination Cities (to):\\n\", flights_df['to'].value_counts().head(), \"\\n\")\n",
        "print(\"💺 Flight Types:\\n\", flights_df['flightType'].value_counts(), \"\\n\")\n",
        "print(\"✈️ Agencies:\\n\", flights_df['agency'].value_counts())\n"
      ],
      "metadata": {
        "colab": {
          "base_uri": "https://localhost:8080/"
        },
        "id": "bgznuKMeHXJW",
        "outputId": "98985bc4-7441-4fda-f94f-d3df5d261c7c"
      },
      "execution_count": null,
      "outputs": [
        {
          "output_type": "stream",
          "name": "stdout",
          "text": [
            "🛫 Origin Cities (from):\n",
            " from\n",
            "Florianopolis (SC)    57317\n",
            "Aracaju (SE)          37224\n",
            "Campo Grande (MS)     34748\n",
            "Brasilia (DF)         30779\n",
            "Recife (PE)           30480\n",
            "Name: count, dtype: int64 \n",
            "\n",
            "🛬 Destination Cities (to):\n",
            " to\n",
            "Florianopolis (SC)    57317\n",
            "Aracaju (SE)          37224\n",
            "Campo Grande (MS)     34748\n",
            "Brasilia (DF)         30779\n",
            "Recife (PE)           30480\n",
            "Name: count, dtype: int64 \n",
            "\n",
            "💺 Flight Types:\n",
            " flightType\n",
            "firstClass    116418\n",
            "premium        78004\n",
            "economic       77466\n",
            "Name: count, dtype: int64 \n",
            "\n",
            "✈️ Agencies:\n",
            " agency\n",
            "Rainbow        116752\n",
            "CloudFy        116378\n",
            "FlyingDrops     38758\n",
            "Name: count, dtype: int64\n"
          ]
        }
      ]
    },
    {
      "cell_type": "markdown",
      "source": [
        "The most frequent origins and destinations will have been listed.\n",
        "\n",
        "The flight types (e.g., economy, business, first) and their distribution have been revealed.\n",
        "\n",
        "The most used flight agencies will have been identified.\n",
        "\n",
        "This insight will help in determining which categorical features should be label encoded or one-hot encoded."
      ],
      "metadata": {
        "id": "kRqqz_N4HlDb"
      }
    },
    {
      "cell_type": "code",
      "source": [
        "# Prepare flights_df for Regression Model (Encoding + Feature Selection)\n",
        "\n",
        "# Encode Categorical Columns and Split Data\n",
        "\n",
        "#How to apply label encoding and split the dataset?\n",
        "from sklearn.preprocessing import LabelEncoder\n",
        "from sklearn.model_selection import train_test_split\n",
        "\n",
        "# Make a copy to avoid changing original\n",
        "flights_encoded = flights_df.copy()\n",
        "\n",
        "# Columns to encode\n",
        "categorical_cols = ['from', 'to', 'flightType', 'agency']\n",
        "\n",
        "# Apply Label Encoding\n",
        "label_encoders = {}\n",
        "for col in categorical_cols:\n",
        "    le = LabelEncoder()\n",
        "    flights_encoded[col] = le.fit_transform(flights_encoded[col])\n",
        "    label_encoders[col] = le  # Save encoder for future use in API\n",
        "\n",
        "# Select features and target\n",
        "features = ['from', 'to', 'flightType', 'agency', 'time', 'distance']\n",
        "target = 'price'\n",
        "\n",
        "X = flights_encoded[features]\n",
        "y = flights_encoded[target]\n",
        "\n",
        "# Split into train and test sets (80% train, 20% test)\n",
        "X_train, X_test, y_train, y_test = train_test_split(X, y, test_size=0.2, random_state=42)\n",
        "\n"
      ],
      "metadata": {
        "id": "RGhJTN0iHmA9"
      },
      "execution_count": null,
      "outputs": []
    },
    {
      "cell_type": "markdown",
      "source": [
        "The categorical columns have been label encoded into numeric values suitable for regression models.\n",
        "\n",
        "The dataset has been split into training and test sets to ensure unbiased evaluation later.\n",
        "\n",
        "Encoders have been saved in a dictionary, which will be helpful during API development to transform inputs.\n",
        "\n"
      ],
      "metadata": {
        "id": "vruOg9adIfsF"
      }
    },
    {
      "cell_type": "code",
      "source": [
        "# I’ll proceed with XGBoost Regressor, which is powerful, widely used in production, and handles label-encoded features very well.\n",
        "# Train and Evaluate the XGBoost Regression Model\n",
        "\n",
        "# Install xgboost if not already installed\n",
        "!pip install -q xgboost\n",
        "\n",
        "import xgboost as xgb\n",
        "from sklearn.metrics import mean_squared_error, mean_absolute_error, r2_score\n",
        "import numpy as np\n",
        "\n",
        "# Initialize and train the model\n",
        "xgb_model = xgb.XGBRegressor(n_estimators=100, learning_rate=0.1, max_depth=6, random_state=42)\n",
        "xgb_model.fit(X_train, y_train)\n",
        "\n",
        "# Predict on test data\n",
        "y_pred = xgb_model.predict(X_test)\n",
        "\n",
        "# Evaluate the model\n",
        "rmse = np.sqrt(mean_squared_error(y_test, y_pred))\n",
        "mae = mean_absolute_error(y_test, y_pred)\n",
        "r2 = r2_score(y_test, y_pred)\n",
        "\n",
        "print(\"📈 Model Performance on Test Set:\")\n",
        "print(f\"🔹 RMSE: {rmse:.2f}\")\n",
        "print(f\"🔹 MAE: {mae:.2f}\")\n",
        "print(f\"🔹 R² Score: {r2:.2f}\")\n"
      ],
      "metadata": {
        "colab": {
          "base_uri": "https://localhost:8080/"
        },
        "id": "LC_fgDrBIgjK",
        "outputId": "c53c292a-7fe7-4bda-ffad-a18c0994e720"
      },
      "execution_count": null,
      "outputs": [
        {
          "output_type": "stream",
          "name": "stdout",
          "text": [
            "📈 Model Performance on Test Set:\n",
            "🔹 RMSE: 15.25\n",
            "🔹 MAE: 10.74\n",
            "🔹 R² Score: 1.00\n"
          ]
        }
      ]
    },
    {
      "cell_type": "markdown",
      "source": [
        "An RMSE of 15.25 and MAE of 10.74 have been achieved — indicating that on average, the price prediction is off by about ₹11–₹15.\n",
        "\n",
        "An R² Score of 1.00 has been observed, which suggests that the model explains nearly 100% of the variance in flight prices."
      ],
      "metadata": {
        "id": "9aXmKmj6JBt6"
      }
    },
    {
      "cell_type": "code",
      "source": [
        "# Save the Trained Model and Label Encoders\n",
        "\n",
        "import joblib\n",
        "import os\n",
        "\n",
        "# Create a directory to store model files\n",
        "model_dir = \"/content/flight_model\"\n",
        "os.makedirs(model_dir, exist_ok=True)\n",
        "\n",
        "# Save the XGBoost model\n",
        "joblib.dump(xgb_model, os.path.join(model_dir, \"xgb_flight_price_model.joblib\"))\n",
        "\n",
        "# Save each LabelEncoder\n",
        "for col, le in label_encoders.items():\n",
        "    joblib.dump(le, os.path.join(model_dir, f\"{col}_label_encoder.joblib\"))\n",
        "\n",
        "print(\"✅ Model and label encoders have been saved successfully.\")\n"
      ],
      "metadata": {
        "colab": {
          "base_uri": "https://localhost:8080/"
        },
        "id": "iGuzxY-iJP21",
        "outputId": "72f72c66-c821-4d1e-b6f9-3f3bbfcbba78"
      },
      "execution_count": null,
      "outputs": [
        {
          "output_type": "stream",
          "name": "stdout",
          "text": [
            "✅ Model and label encoders have been saved successfully.\n"
          ]
        }
      ]
    },
    {
      "cell_type": "markdown",
      "source": [
        "The XGBoost model has been saved as xgb_flight_price_model.joblib.\n",
        "\n",
        "Each LabelEncoder for from, to, flightType, and agency has been saved separately.\n",
        "\n",
        "These files will later be loaded inside your Flask API to perform real-time predictions."
      ],
      "metadata": {
        "id": "BvyA4SV1JbT4"
      }
    },
    {
      "cell_type": "code",
      "source": [
        "import os\n",
        "\n",
        "files = [\n",
        "    \"xgb_flight_price_model.joblib\",\n",
        "    \"from_label_encoder.joblib\",\n",
        "    \"to_label_encoder.joblib\",\n",
        "    \"agency_label_encoder.joblib\",\n",
        "    \"flightType_label_encoder.joblib\"\n",
        "]\n",
        "\n",
        "for file in files:\n",
        "    print(f\"{file}: {'✅ Found' if os.path.exists(file) else '❌ Not found'}\")\n"
      ],
      "metadata": {
        "colab": {
          "base_uri": "https://localhost:8080/"
        },
        "id": "sO-IDLh-3Bs4",
        "outputId": "d96032d1-452e-40f5-b042-014541dbd0cf"
      },
      "execution_count": null,
      "outputs": [
        {
          "output_type": "stream",
          "name": "stdout",
          "text": [
            "xgb_flight_price_model.joblib: ❌ Not found\n",
            "from_label_encoder.joblib: ❌ Not found\n",
            "to_label_encoder.joblib: ❌ Not found\n",
            "agency_label_encoder.joblib: ❌ Not found\n",
            "flightType_label_encoder.joblib: ❌ Not found\n"
          ]
        }
      ]
    },
    {
      "cell_type": "code",
      "source": [
        "import pandas as pd\n",
        "\n",
        "# Load the flights dataset\n",
        "flights_df = pd.read_csv(\"/content/travel_capstone/flights.csv\")\n",
        "\n",
        "# Display the first few rows\n",
        "flights_df.head()\n"
      ],
      "metadata": {
        "colab": {
          "base_uri": "https://localhost:8080/",
          "height": 206
        },
        "id": "H4lu6yYA3Yr6",
        "outputId": "c2ab90f9-f3ef-49bb-8548-4525ec9c5b41"
      },
      "execution_count": null,
      "outputs": [
        {
          "output_type": "execute_result",
          "data": {
            "text/plain": [
              "   travelCode  userCode                from                  to  flightType  \\\n",
              "0           0         0         Recife (PE)  Florianopolis (SC)  firstClass   \n",
              "1           0         0  Florianopolis (SC)         Recife (PE)  firstClass   \n",
              "2           1         0       Brasilia (DF)  Florianopolis (SC)  firstClass   \n",
              "3           1         0  Florianopolis (SC)       Brasilia (DF)  firstClass   \n",
              "4           2         0        Aracaju (SE)       Salvador (BH)  firstClass   \n",
              "\n",
              "     price  time  distance       agency        date  \n",
              "0  1434.38  1.76    676.53  FlyingDrops  09/26/2019  \n",
              "1  1292.29  1.76    676.53  FlyingDrops  09/30/2019  \n",
              "2  1487.52  1.66    637.56      CloudFy  10/03/2019  \n",
              "3  1127.36  1.66    637.56      CloudFy  10/04/2019  \n",
              "4  1684.05  2.16    830.86      CloudFy  10/10/2019  "
            ],
            "text/html": [
              "\n",
              "  <div id=\"df-42535885-414f-4f47-afb2-2fd20797cad8\" class=\"colab-df-container\">\n",
              "    <div>\n",
              "<style scoped>\n",
              "    .dataframe tbody tr th:only-of-type {\n",
              "        vertical-align: middle;\n",
              "    }\n",
              "\n",
              "    .dataframe tbody tr th {\n",
              "        vertical-align: top;\n",
              "    }\n",
              "\n",
              "    .dataframe thead th {\n",
              "        text-align: right;\n",
              "    }\n",
              "</style>\n",
              "<table border=\"1\" class=\"dataframe\">\n",
              "  <thead>\n",
              "    <tr style=\"text-align: right;\">\n",
              "      <th></th>\n",
              "      <th>travelCode</th>\n",
              "      <th>userCode</th>\n",
              "      <th>from</th>\n",
              "      <th>to</th>\n",
              "      <th>flightType</th>\n",
              "      <th>price</th>\n",
              "      <th>time</th>\n",
              "      <th>distance</th>\n",
              "      <th>agency</th>\n",
              "      <th>date</th>\n",
              "    </tr>\n",
              "  </thead>\n",
              "  <tbody>\n",
              "    <tr>\n",
              "      <th>0</th>\n",
              "      <td>0</td>\n",
              "      <td>0</td>\n",
              "      <td>Recife (PE)</td>\n",
              "      <td>Florianopolis (SC)</td>\n",
              "      <td>firstClass</td>\n",
              "      <td>1434.38</td>\n",
              "      <td>1.76</td>\n",
              "      <td>676.53</td>\n",
              "      <td>FlyingDrops</td>\n",
              "      <td>09/26/2019</td>\n",
              "    </tr>\n",
              "    <tr>\n",
              "      <th>1</th>\n",
              "      <td>0</td>\n",
              "      <td>0</td>\n",
              "      <td>Florianopolis (SC)</td>\n",
              "      <td>Recife (PE)</td>\n",
              "      <td>firstClass</td>\n",
              "      <td>1292.29</td>\n",
              "      <td>1.76</td>\n",
              "      <td>676.53</td>\n",
              "      <td>FlyingDrops</td>\n",
              "      <td>09/30/2019</td>\n",
              "    </tr>\n",
              "    <tr>\n",
              "      <th>2</th>\n",
              "      <td>1</td>\n",
              "      <td>0</td>\n",
              "      <td>Brasilia (DF)</td>\n",
              "      <td>Florianopolis (SC)</td>\n",
              "      <td>firstClass</td>\n",
              "      <td>1487.52</td>\n",
              "      <td>1.66</td>\n",
              "      <td>637.56</td>\n",
              "      <td>CloudFy</td>\n",
              "      <td>10/03/2019</td>\n",
              "    </tr>\n",
              "    <tr>\n",
              "      <th>3</th>\n",
              "      <td>1</td>\n",
              "      <td>0</td>\n",
              "      <td>Florianopolis (SC)</td>\n",
              "      <td>Brasilia (DF)</td>\n",
              "      <td>firstClass</td>\n",
              "      <td>1127.36</td>\n",
              "      <td>1.66</td>\n",
              "      <td>637.56</td>\n",
              "      <td>CloudFy</td>\n",
              "      <td>10/04/2019</td>\n",
              "    </tr>\n",
              "    <tr>\n",
              "      <th>4</th>\n",
              "      <td>2</td>\n",
              "      <td>0</td>\n",
              "      <td>Aracaju (SE)</td>\n",
              "      <td>Salvador (BH)</td>\n",
              "      <td>firstClass</td>\n",
              "      <td>1684.05</td>\n",
              "      <td>2.16</td>\n",
              "      <td>830.86</td>\n",
              "      <td>CloudFy</td>\n",
              "      <td>10/10/2019</td>\n",
              "    </tr>\n",
              "  </tbody>\n",
              "</table>\n",
              "</div>\n",
              "    <div class=\"colab-df-buttons\">\n",
              "\n",
              "  <div class=\"colab-df-container\">\n",
              "    <button class=\"colab-df-convert\" onclick=\"convertToInteractive('df-42535885-414f-4f47-afb2-2fd20797cad8')\"\n",
              "            title=\"Convert this dataframe to an interactive table.\"\n",
              "            style=\"display:none;\">\n",
              "\n",
              "  <svg xmlns=\"http://www.w3.org/2000/svg\" height=\"24px\" viewBox=\"0 -960 960 960\">\n",
              "    <path d=\"M120-120v-720h720v720H120Zm60-500h600v-160H180v160Zm220 220h160v-160H400v160Zm0 220h160v-160H400v160ZM180-400h160v-160H180v160Zm440 0h160v-160H620v160ZM180-180h160v-160H180v160Zm440 0h160v-160H620v160Z\"/>\n",
              "  </svg>\n",
              "    </button>\n",
              "\n",
              "  <style>\n",
              "    .colab-df-container {\n",
              "      display:flex;\n",
              "      gap: 12px;\n",
              "    }\n",
              "\n",
              "    .colab-df-convert {\n",
              "      background-color: #E8F0FE;\n",
              "      border: none;\n",
              "      border-radius: 50%;\n",
              "      cursor: pointer;\n",
              "      display: none;\n",
              "      fill: #1967D2;\n",
              "      height: 32px;\n",
              "      padding: 0 0 0 0;\n",
              "      width: 32px;\n",
              "    }\n",
              "\n",
              "    .colab-df-convert:hover {\n",
              "      background-color: #E2EBFA;\n",
              "      box-shadow: 0px 1px 2px rgba(60, 64, 67, 0.3), 0px 1px 3px 1px rgba(60, 64, 67, 0.15);\n",
              "      fill: #174EA6;\n",
              "    }\n",
              "\n",
              "    .colab-df-buttons div {\n",
              "      margin-bottom: 4px;\n",
              "    }\n",
              "\n",
              "    [theme=dark] .colab-df-convert {\n",
              "      background-color: #3B4455;\n",
              "      fill: #D2E3FC;\n",
              "    }\n",
              "\n",
              "    [theme=dark] .colab-df-convert:hover {\n",
              "      background-color: #434B5C;\n",
              "      box-shadow: 0px 1px 3px 1px rgba(0, 0, 0, 0.15);\n",
              "      filter: drop-shadow(0px 1px 2px rgba(0, 0, 0, 0.3));\n",
              "      fill: #FFFFFF;\n",
              "    }\n",
              "  </style>\n",
              "\n",
              "    <script>\n",
              "      const buttonEl =\n",
              "        document.querySelector('#df-42535885-414f-4f47-afb2-2fd20797cad8 button.colab-df-convert');\n",
              "      buttonEl.style.display =\n",
              "        google.colab.kernel.accessAllowed ? 'block' : 'none';\n",
              "\n",
              "      async function convertToInteractive(key) {\n",
              "        const element = document.querySelector('#df-42535885-414f-4f47-afb2-2fd20797cad8');\n",
              "        const dataTable =\n",
              "          await google.colab.kernel.invokeFunction('convertToInteractive',\n",
              "                                                    [key], {});\n",
              "        if (!dataTable) return;\n",
              "\n",
              "        const docLinkHtml = 'Like what you see? Visit the ' +\n",
              "          '<a target=\"_blank\" href=https://colab.research.google.com/notebooks/data_table.ipynb>data table notebook</a>'\n",
              "          + ' to learn more about interactive tables.';\n",
              "        element.innerHTML = '';\n",
              "        dataTable['output_type'] = 'display_data';\n",
              "        await google.colab.output.renderOutput(dataTable, element);\n",
              "        const docLink = document.createElement('div');\n",
              "        docLink.innerHTML = docLinkHtml;\n",
              "        element.appendChild(docLink);\n",
              "      }\n",
              "    </script>\n",
              "  </div>\n",
              "\n",
              "\n",
              "    <div id=\"df-a2c38689-ce98-4eac-876c-b196f6351bc8\">\n",
              "      <button class=\"colab-df-quickchart\" onclick=\"quickchart('df-a2c38689-ce98-4eac-876c-b196f6351bc8')\"\n",
              "                title=\"Suggest charts\"\n",
              "                style=\"display:none;\">\n",
              "\n",
              "<svg xmlns=\"http://www.w3.org/2000/svg\" height=\"24px\"viewBox=\"0 0 24 24\"\n",
              "     width=\"24px\">\n",
              "    <g>\n",
              "        <path d=\"M19 3H5c-1.1 0-2 .9-2 2v14c0 1.1.9 2 2 2h14c1.1 0 2-.9 2-2V5c0-1.1-.9-2-2-2zM9 17H7v-7h2v7zm4 0h-2V7h2v10zm4 0h-2v-4h2v4z\"/>\n",
              "    </g>\n",
              "</svg>\n",
              "      </button>\n",
              "\n",
              "<style>\n",
              "  .colab-df-quickchart {\n",
              "      --bg-color: #E8F0FE;\n",
              "      --fill-color: #1967D2;\n",
              "      --hover-bg-color: #E2EBFA;\n",
              "      --hover-fill-color: #174EA6;\n",
              "      --disabled-fill-color: #AAA;\n",
              "      --disabled-bg-color: #DDD;\n",
              "  }\n",
              "\n",
              "  [theme=dark] .colab-df-quickchart {\n",
              "      --bg-color: #3B4455;\n",
              "      --fill-color: #D2E3FC;\n",
              "      --hover-bg-color: #434B5C;\n",
              "      --hover-fill-color: #FFFFFF;\n",
              "      --disabled-bg-color: #3B4455;\n",
              "      --disabled-fill-color: #666;\n",
              "  }\n",
              "\n",
              "  .colab-df-quickchart {\n",
              "    background-color: var(--bg-color);\n",
              "    border: none;\n",
              "    border-radius: 50%;\n",
              "    cursor: pointer;\n",
              "    display: none;\n",
              "    fill: var(--fill-color);\n",
              "    height: 32px;\n",
              "    padding: 0;\n",
              "    width: 32px;\n",
              "  }\n",
              "\n",
              "  .colab-df-quickchart:hover {\n",
              "    background-color: var(--hover-bg-color);\n",
              "    box-shadow: 0 1px 2px rgba(60, 64, 67, 0.3), 0 1px 3px 1px rgba(60, 64, 67, 0.15);\n",
              "    fill: var(--button-hover-fill-color);\n",
              "  }\n",
              "\n",
              "  .colab-df-quickchart-complete:disabled,\n",
              "  .colab-df-quickchart-complete:disabled:hover {\n",
              "    background-color: var(--disabled-bg-color);\n",
              "    fill: var(--disabled-fill-color);\n",
              "    box-shadow: none;\n",
              "  }\n",
              "\n",
              "  .colab-df-spinner {\n",
              "    border: 2px solid var(--fill-color);\n",
              "    border-color: transparent;\n",
              "    border-bottom-color: var(--fill-color);\n",
              "    animation:\n",
              "      spin 1s steps(1) infinite;\n",
              "  }\n",
              "\n",
              "  @keyframes spin {\n",
              "    0% {\n",
              "      border-color: transparent;\n",
              "      border-bottom-color: var(--fill-color);\n",
              "      border-left-color: var(--fill-color);\n",
              "    }\n",
              "    20% {\n",
              "      border-color: transparent;\n",
              "      border-left-color: var(--fill-color);\n",
              "      border-top-color: var(--fill-color);\n",
              "    }\n",
              "    30% {\n",
              "      border-color: transparent;\n",
              "      border-left-color: var(--fill-color);\n",
              "      border-top-color: var(--fill-color);\n",
              "      border-right-color: var(--fill-color);\n",
              "    }\n",
              "    40% {\n",
              "      border-color: transparent;\n",
              "      border-right-color: var(--fill-color);\n",
              "      border-top-color: var(--fill-color);\n",
              "    }\n",
              "    60% {\n",
              "      border-color: transparent;\n",
              "      border-right-color: var(--fill-color);\n",
              "    }\n",
              "    80% {\n",
              "      border-color: transparent;\n",
              "      border-right-color: var(--fill-color);\n",
              "      border-bottom-color: var(--fill-color);\n",
              "    }\n",
              "    90% {\n",
              "      border-color: transparent;\n",
              "      border-bottom-color: var(--fill-color);\n",
              "    }\n",
              "  }\n",
              "</style>\n",
              "\n",
              "      <script>\n",
              "        async function quickchart(key) {\n",
              "          const quickchartButtonEl =\n",
              "            document.querySelector('#' + key + ' button');\n",
              "          quickchartButtonEl.disabled = true;  // To prevent multiple clicks.\n",
              "          quickchartButtonEl.classList.add('colab-df-spinner');\n",
              "          try {\n",
              "            const charts = await google.colab.kernel.invokeFunction(\n",
              "                'suggestCharts', [key], {});\n",
              "          } catch (error) {\n",
              "            console.error('Error during call to suggestCharts:', error);\n",
              "          }\n",
              "          quickchartButtonEl.classList.remove('colab-df-spinner');\n",
              "          quickchartButtonEl.classList.add('colab-df-quickchart-complete');\n",
              "        }\n",
              "        (() => {\n",
              "          let quickchartButtonEl =\n",
              "            document.querySelector('#df-a2c38689-ce98-4eac-876c-b196f6351bc8 button');\n",
              "          quickchartButtonEl.style.display =\n",
              "            google.colab.kernel.accessAllowed ? 'block' : 'none';\n",
              "        })();\n",
              "      </script>\n",
              "    </div>\n",
              "\n",
              "    </div>\n",
              "  </div>\n"
            ],
            "application/vnd.google.colaboratory.intrinsic+json": {
              "type": "dataframe",
              "variable_name": "flights_df"
            }
          },
          "metadata": {},
          "execution_count": 15
        }
      ]
    },
    {
      "cell_type": "code",
      "source": [
        "#Encode Categorical Variables and Prepare Features\n",
        "from sklearn.preprocessing import LabelEncoder\n",
        "\n",
        "# Columns to encode\n",
        "categorical_cols = ['from', 'to', 'agency', 'flightType']\n",
        "label_encoders = {}\n",
        "\n",
        "# Apply Label Encoding\n",
        "for col in categorical_cols:\n",
        "    le = LabelEncoder()\n",
        "    flights_df[col] = le.fit_transform(flights_df[col])\n",
        "    label_encoders[col] = le  # Save encoder\n",
        "\n",
        "# Features and target\n",
        "X = flights_df[['from', 'to', 'agency', 'flightType', 'time', 'distance']]\n",
        "y = flights_df['price']\n"
      ],
      "metadata": {
        "id": "Td3EmMI03g1Q"
      },
      "execution_count": null,
      "outputs": []
    },
    {
      "cell_type": "code",
      "source": [
        "#Train-Test Split and Model Training\n",
        "from sklearn.model_selection import train_test_split\n",
        "from xgboost import XGBRegressor\n",
        "from sklearn.metrics import mean_squared_error, mean_absolute_error, r2_score\n",
        "import numpy as np\n",
        "\n",
        "# Split the data\n",
        "X_train, X_test, y_train, y_test = train_test_split(X, y, test_size=0.2, random_state=42)\n",
        "\n",
        "# Train the XGBoost Regressor\n",
        "xgb_model = XGBRegressor(n_estimators=100, learning_rate=0.1, max_depth=6, random_state=42)\n",
        "xgb_model.fit(X_train, y_train)\n",
        "\n",
        "# Make predictions\n",
        "y_pred = xgb_model.predict(X_test)\n",
        "\n",
        "# Evaluate the model\n",
        "rmse = np.sqrt(mean_squared_error(y_test, y_pred))\n",
        "mae = mean_absolute_error(y_test, y_pred)\n",
        "r2 = r2_score(y_test, y_pred)\n",
        "\n",
        "print(f\"✅ Model Performance:\\nRMSE: {rmse:.2f}\\nMAE: {mae:.2f}\\nR² Score: {r2:.2f}\")"
      ],
      "metadata": {
        "colab": {
          "base_uri": "https://localhost:8080/"
        },
        "id": "Dz6PdqZp3nta",
        "outputId": "be00e7f1-b506-4f80-ecd6-c636eb2d3dbd"
      },
      "execution_count": null,
      "outputs": [
        {
          "output_type": "stream",
          "name": "stdout",
          "text": [
            "✅ Model Performance:\n",
            "RMSE: 15.25\n",
            "MAE: 10.74\n",
            "R² Score: 1.00\n"
          ]
        }
      ]
    },
    {
      "cell_type": "code",
      "source": [
        "#Save the Model and Label Encoders\n",
        "import joblib\n",
        "import os\n",
        "\n",
        "# Create a folder to save model files\n",
        "model_dir = \"/content/model\"\n",
        "os.makedirs(model_dir, exist_ok=True)\n",
        "\n",
        "# Save the model\n",
        "joblib.dump(xgb_model, os.path.join(model_dir, \"xgb_flight_price_model.joblib\"))\n",
        "\n",
        "# Save the label encoders\n",
        "for col, encoder in label_encoders.items():\n",
        "    joblib.dump(encoder, os.path.join(model_dir, f\"{col}_label_encoder.joblib\"))\n",
        "\n",
        "print(\"✅ Model and encoders saved successfully in /content/model/\")\n"
      ],
      "metadata": {
        "colab": {
          "base_uri": "https://localhost:8080/"
        },
        "id": "moqnHjUF327A",
        "outputId": "a2102ed5-3cea-403c-fec5-dc9f442be587"
      },
      "execution_count": null,
      "outputs": [
        {
          "output_type": "stream",
          "name": "stdout",
          "text": [
            "✅ Model and encoders saved successfully in /content/model/\n"
          ]
        }
      ]
    },
    {
      "cell_type": "code",
      "source": [
        "import shutil\n",
        "import os\n",
        "\n",
        "# Create directory structure\n",
        "hf_dir = \"/content/hf_flight_app\"\n",
        "model_subdir = os.path.join(hf_dir, \"model\")\n",
        "os.makedirs(model_subdir, exist_ok=True)\n",
        "\n",
        "# Copy model and encoders into model folder\n",
        "shutil.copy(\"/content/model/xgb_flight_price_model.joblib\", model_subdir)\n",
        "shutil.copy(\"/content/model/from_label_encoder.joblib\", model_subdir)\n",
        "shutil.copy(\"/content/model/to_label_encoder.joblib\", model_subdir)\n",
        "shutil.copy(\"/content/model/agency_label_encoder.joblib\", model_subdir)\n",
        "shutil.copy(\"/content/model/flightType_label_encoder.joblib\", model_subdir)\n",
        "\n",
        "print(\"✅ Folder structure created and model files copied.\")\n"
      ],
      "metadata": {
        "colab": {
          "base_uri": "https://localhost:8080/"
        },
        "id": "rUSpnnjh4Kmk",
        "outputId": "b52f0282-1bed-4b50-bea7-69bfb40b71d8"
      },
      "execution_count": null,
      "outputs": [
        {
          "output_type": "stream",
          "name": "stdout",
          "text": [
            "✅ Folder structure created and model files copied.\n"
          ]
        }
      ]
    },
    {
      "cell_type": "code",
      "source": [
        "# Create requirements.txt\n",
        "with open(\"/content/hf_flight_app/requirements.txt\", \"w\") as f:\n",
        "    f.write(\"\"\"\\\n",
        "gradio\n",
        "scikit-learn\n",
        "xgboost\n",
        "joblib\n",
        "pandas\n",
        "\"\"\")\n",
        "\n",
        "print(\"✅ requirements.txt created.\")\n"
      ],
      "metadata": {
        "colab": {
          "base_uri": "https://localhost:8080/"
        },
        "id": "zzSVOL964Rta",
        "outputId": "cb4c73fb-e567-4660-f607-15a32ae887e3"
      },
      "execution_count": null,
      "outputs": [
        {
          "output_type": "stream",
          "name": "stdout",
          "text": [
            "✅ requirements.txt created.\n"
          ]
        }
      ]
    },
    {
      "cell_type": "code",
      "source": [
        "app_code = '''\n",
        "import gradio as gr\n",
        "import joblib\n",
        "import os\n",
        "import numpy as np\n",
        "\n",
        "# Load model and encoders\n",
        "model_path = \"model/xgb_flight_price_model.joblib\"\n",
        "from_enc = joblib.load(\"model/from_label_encoder.joblib\")\n",
        "to_enc = joblib.load(\"model/to_label_encoder.joblib\")\n",
        "agency_enc = joblib.load(\"model/agency_label_encoder.joblib\")\n",
        "type_enc = joblib.load(\"model/flightType_label_encoder.joblib\")\n",
        "model = joblib.load(model_path)\n",
        "\n",
        "def predict_price(origin, destination, agency, flight_type, time, distance):\n",
        "    try:\n",
        "        # Encode categorical inputs\n",
        "        origin_enc = from_enc.transform([origin])[0]\n",
        "        destination_enc = to_enc.transform([destination])[0]\n",
        "        agency_enc_val = agency_enc.transform([agency])[0]\n",
        "        type_enc_val = type_enc.transform([flight_type])[0]\n",
        "\n",
        "        # Prepare features\n",
        "        features = np.array([[origin_enc, destination_enc, agency_enc_val, type_enc_val, time, distance]])\n",
        "\n",
        "        # Predict\n",
        "        prediction = model.predict(features)[0]\n",
        "        return f\"Predicted Flight Price: ₹{prediction:.2f}\"\n",
        "\n",
        "    except Exception as e:\n",
        "        return f\"❌ Error: {str(e)}\"\n",
        "\n",
        "# Unique options from encoders\n",
        "origins = from_enc.classes_.tolist()\n",
        "destinations = to_enc.classes_.tolist()\n",
        "agencies = agency_enc.classes_.tolist()\n",
        "flight_types = type_enc.classes_.tolist()\n",
        "\n",
        "# Gradio interface\n",
        "iface = gr.Interface(\n",
        "    fn=predict_price,\n",
        "    inputs=[\n",
        "        gr.Dropdown(origins, label=\"Origin\"),\n",
        "        gr.Dropdown(destinations, label=\"Destination\"),\n",
        "        gr.Dropdown(agencies, label=\"Agency\"),\n",
        "        gr.Dropdown(flight_types, label=\"Flight Type\"),\n",
        "        gr.Number(label=\"Flight Duration (minutes)\"),\n",
        "        gr.Number(label=\"Flight Distance (km)\")\n",
        "    ],\n",
        "    outputs=\"text\",\n",
        "    title=\"✈️ Flight Price Prediction App\",\n",
        "    description=\"Enter flight details to get a predicted price using ML\",\n",
        ")\n",
        "\n",
        "iface.launch()\n",
        "'''\n",
        "\n",
        "# Save app.py\n",
        "with open(\"/content/hf_flight_app/app.py\", \"w\") as f:\n",
        "    f.write(app_code)\n",
        "\n",
        "print(\"✅ app.py created.\")\n"
      ],
      "metadata": {
        "colab": {
          "base_uri": "https://localhost:8080/"
        },
        "id": "TcdedNqv4XaQ",
        "outputId": "c156089a-1e73-4839-9c08-9cb0e5eb3ec7"
      },
      "execution_count": null,
      "outputs": [
        {
          "output_type": "stream",
          "name": "stdout",
          "text": [
            "✅ app.py created.\n"
          ]
        }
      ]
    },
    {
      "cell_type": "code",
      "source": [
        "# Zip the folder for Hugging Face upload\n",
        "shutil.make_archive(\"hf_flight_app\", 'zip', \"/content/hf_flight_app\")\n",
        "\n",
        "print(\"✅ Project zipped successfully as hf_flight_app.zip\")\n"
      ],
      "metadata": {
        "colab": {
          "base_uri": "https://localhost:8080/"
        },
        "id": "XMPjfOn24gr6",
        "outputId": "69f3a5b7-83e2-4667-82b1-2b9f08b87576"
      },
      "execution_count": null,
      "outputs": [
        {
          "output_type": "stream",
          "name": "stdout",
          "text": [
            "✅ Project zipped successfully as hf_flight_app.zip\n"
          ]
        }
      ]
    },
    {
      "cell_type": "code",
      "source": [
        "from google.colab import files\n",
        "files.download(\"hf_flight_app.zip\")\n"
      ],
      "metadata": {
        "colab": {
          "base_uri": "https://localhost:8080/",
          "height": 17
        },
        "id": "0bVVqvng4ks2",
        "outputId": "2b05bfa6-2686-4e8d-f237-dc62941c076f"
      },
      "execution_count": null,
      "outputs": [
        {
          "output_type": "display_data",
          "data": {
            "text/plain": [
              "<IPython.core.display.Javascript object>"
            ],
            "application/javascript": [
              "\n",
              "    async function download(id, filename, size) {\n",
              "      if (!google.colab.kernel.accessAllowed) {\n",
              "        return;\n",
              "      }\n",
              "      const div = document.createElement('div');\n",
              "      const label = document.createElement('label');\n",
              "      label.textContent = `Downloading \"${filename}\": `;\n",
              "      div.appendChild(label);\n",
              "      const progress = document.createElement('progress');\n",
              "      progress.max = size;\n",
              "      div.appendChild(progress);\n",
              "      document.body.appendChild(div);\n",
              "\n",
              "      const buffers = [];\n",
              "      let downloaded = 0;\n",
              "\n",
              "      const channel = await google.colab.kernel.comms.open(id);\n",
              "      // Send a message to notify the kernel that we're ready.\n",
              "      channel.send({})\n",
              "\n",
              "      for await (const message of channel.messages) {\n",
              "        // Send a message to notify the kernel that we're ready.\n",
              "        channel.send({})\n",
              "        if (message.buffers) {\n",
              "          for (const buffer of message.buffers) {\n",
              "            buffers.push(buffer);\n",
              "            downloaded += buffer.byteLength;\n",
              "            progress.value = downloaded;\n",
              "          }\n",
              "        }\n",
              "      }\n",
              "      const blob = new Blob(buffers, {type: 'application/binary'});\n",
              "      const a = document.createElement('a');\n",
              "      a.href = window.URL.createObjectURL(blob);\n",
              "      a.download = filename;\n",
              "      div.appendChild(a);\n",
              "      a.click();\n",
              "      div.remove();\n",
              "    }\n",
              "  "
            ]
          },
          "metadata": {}
        },
        {
          "output_type": "display_data",
          "data": {
            "text/plain": [
              "<IPython.core.display.Javascript object>"
            ],
            "application/javascript": [
              "download(\"download_33fe6a9b-8152-42e1-b25f-46779e0aac1e\", \"hf_flight_app.zip\", 122782)"
            ]
          },
          "metadata": {}
        }
      ]
    },
    {
      "cell_type": "markdown",
      "source": [
        "![Screenshot (633).png](data:image/png;base64,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)"
      ],
      "metadata": {
        "id": "aTcqfFHIAAuB"
      }
    },
    {
      "cell_type": "markdown",
      "source": [
        "deployment link of API - https://huggingface.co/spaces/mdfarhan/flight-price-predictor"
      ],
      "metadata": {
        "id": "ztINx4bPDXhp"
      }
    },
    {
      "cell_type": "code",
      "source": [
        "# Recreate Files in flight_price_app\n",
        "%cd /content\n"
      ],
      "metadata": {
        "colab": {
          "base_uri": "https://localhost:8080/"
        },
        "id": "Tz4JC4f3gbl5",
        "outputId": "55e48ad3-4945-4096-cbf5-0ffd8733075f"
      },
      "execution_count": null,
      "outputs": [
        {
          "output_type": "stream",
          "name": "stdout",
          "text": [
            "/content\n"
          ]
        }
      ]
    },
    {
      "cell_type": "code",
      "source": [
        "#Recreate the directory again (clean slate):\n",
        "\n",
        "\n",
        "import os\n",
        "os.makedirs(\"flight_price_app\", exist_ok=True)\n"
      ],
      "metadata": {
        "id": "pasnWk5mgio1"
      },
      "execution_count": null,
      "outputs": []
    },
    {
      "cell_type": "code",
      "source": [
        "flask_code = \"\"\"\n",
        "from flask import Flask, request, jsonify\n",
        "import pickle\n",
        "import numpy as np\n",
        "\n",
        "app = Flask(__name__)\n",
        "\n",
        "# Load model\n",
        "model = pickle.load(open(\"flight_price_model.pkl\", \"rb\"))\n",
        "\n",
        "@app.route(\"/\")\n",
        "def index():\n",
        "    return \"Flight Price Prediction API\"\n",
        "\n",
        "@app.route(\"/predict\", methods=[\"POST\"])\n",
        "def predict():\n",
        "    data = request.get_json()\n",
        "    input_data = np.array([list(data.values())])\n",
        "    prediction = model.predict(input_data)\n",
        "    return jsonify({\"predicted_price\": float(prediction[0])})\n",
        "\n",
        "if __name__ == \"__main__\":\n",
        "    app.run(debug=True)\n",
        "\"\"\"\n",
        "\n",
        "with open(\"flight_price_app/app.py\", \"w\") as f:\n",
        "    f.write(flask_code)\n"
      ],
      "metadata": {
        "id": "nm7PM9u0goxp"
      },
      "execution_count": null,
      "outputs": []
    },
    {
      "cell_type": "code",
      "source": [
        "#Save your trained model (xgb_flight_price_model.joblib) again:\n",
        "import joblib\n",
        "import os\n",
        "\n",
        "# Define the path to the directory where the model should be saved\n",
        "model_dir = \"flight_price_app\" # This is the directory created in the previous step\n",
        "\n",
        "# Define the full path for the model file\n",
        "model_path = os.path.join(model_dir, \"xgb_flight_price_model.joblib\")\n",
        "\n",
        "# Load the model first, as it was trained in a previous cell\n",
        "# Assuming the model was successfully trained and saved in the /content/model directory\n",
        "try:\n",
        "    trained_model = joblib.load(\"/content/model/xgb_flight_price_model.joblib\")\n",
        "except FileNotFoundError:\n",
        "    print(\"Error: Trained model file not found. Please ensure the model training and saving steps were executed successfully.\")\n",
        "    trained_model = None\n",
        "\n",
        "# Save the loaded model in the project folder if loading was successful\n",
        "if trained_model:\n",
        "    with open(model_path, \"wb\") as f:\n",
        "        joblib.dump(trained_model, f)\n",
        "    print(f\"✅ Model saved successfully to {model_path}\")\n",
        "else:\n",
        "    print(\"❌ Model not saved due to previous loading error.\")"
      ],
      "metadata": {
        "colab": {
          "base_uri": "https://localhost:8080/"
        },
        "id": "5EBu0nJsg0Ap",
        "outputId": "8a10c7da-9db8-4cd6-ce25-2365318be865"
      },
      "execution_count": null,
      "outputs": [
        {
          "output_type": "stream",
          "name": "stdout",
          "text": [
            "✅ Model saved successfully to flight_price_app/xgb_flight_price_model.joblib\n"
          ]
        }
      ]
    },
    {
      "cell_type": "code",
      "source": [
        "requirements = \"\"\"\n",
        "flask\n",
        "numpy\n",
        "scikit-learn\n",
        "xgboost\n",
        "joblib\n",
        "\"\"\"\n",
        "\n",
        "with open(\"requirements.txt\", \"w\") as f:\n",
        "    f.write(requirements)\n",
        "\n",
        "# Move it into the app folder\n",
        "!mv requirements.txt flight_price_app/\n"
      ],
      "metadata": {
        "id": "MJCaSWk9he2o"
      },
      "execution_count": null,
      "outputs": []
    },
    {
      "cell_type": "code",
      "source": [
        "#Create the Dockerfile\n",
        "#This tells Docker how to build the image.\n",
        "dockerfile = \"\"\"\n",
        "# Use a lightweight Python base image\n",
        "FROM python:3.9-slim\n",
        "\n",
        "# Set working directory in the container\n",
        "WORKDIR /app\n",
        "\n",
        "# Copy local code to the container\n",
        "COPY . /app\n",
        "\n",
        "# Install dependencies\n",
        "RUN pip install --no-cache-dir -r requirements.txt\n",
        "\n",
        "# Expose the port the app runs on\n",
        "EXPOSE 5000\n",
        "\n",
        "# Command to run the application\n",
        "CMD [\"python\", \"app.py\"]\n",
        "\"\"\"\n",
        "\n",
        "with open(\"Dockerfile\", \"w\") as f:\n",
        "    f.write(dockerfile)\n",
        "\n",
        "# Move it into the app folder\n",
        "!mv Dockerfile flight_price_app/\n",
        "\n",
        "\n"
      ],
      "metadata": {
        "id": "OcDQbXz_hlym"
      },
      "execution_count": null,
      "outputs": []
    },
    {
      "cell_type": "code",
      "source": [
        "#Final Check — Project Folder Contents\n",
        "!ls -l flight_price_app\n"
      ],
      "metadata": {
        "colab": {
          "base_uri": "https://localhost:8080/"
        },
        "id": "gAPpnCAFhthN",
        "outputId": "6d3a712e-c535-4fe9-d418-263d913ae827"
      },
      "execution_count": null,
      "outputs": [
        {
          "output_type": "stream",
          "name": "stdout",
          "text": [
            "total 480\n",
            "-rw-r--r-- 1 root root    536 Jun 25 09:54 app.py\n",
            "-rw-r--r-- 1 root root    344 Jun 25 09:58 Dockerfile\n",
            "-rw-r--r-- 1 root root      0 Jun 25 09:56 flight_price_model.pkl\n",
            "drwxr-xr-x 2 root root   4096 Jun 25 09:52 model\n",
            "-rw-r--r-- 1 root root     41 Jun 25 09:58 requirements.txt\n",
            "-rw-r--r-- 1 root root 474191 Jun 25 09:57 xgb_flight_price_model.joblib\n"
          ]
        }
      ]
    },
    {
      "cell_type": "code",
      "source": [
        "#Docker Build & Run (Simulate / For Local Use)\n",
        "#Since Docker can't run inside Colab, here’s what you'd do on your local machine or for your report:\n",
        "\n",
        "%cd /content/flight_price_app\n"
      ],
      "metadata": {
        "colab": {
          "base_uri": "https://localhost:8080/"
        },
        "id": "Gn2NQBsWh96A",
        "outputId": "e87a40b3-1eb4-4470-8182-2a53076c59d3"
      },
      "execution_count": null,
      "outputs": [
        {
          "output_type": "stream",
          "name": "stdout",
          "text": [
            "/content/flight_price_app\n"
          ]
        }
      ]
    },
    {
      "cell_type": "code",
      "source": [
        "# Docker setup is fully complete, and you're now ready to continue with the Kubernetes Deployment step for your Flight Price Prediction API.\n",
        "\n"
      ],
      "metadata": {
        "id": "Xe44NMdziiSX"
      },
      "execution_count": null,
      "outputs": []
    },
    {
      "cell_type": "code",
      "source": [
        "#Kubernetes Deployment\n",
        "\n",
        "deployment_yaml = \"\"\"\n",
        "apiVersion: apps/v1\n",
        "kind: Deployment\n",
        "metadata:\n",
        "  name: flight-price-deployment\n",
        "spec:\n",
        "  replicas: 1\n",
        "  selector:\n",
        "    matchLabels:\n",
        "      app: flight-price\n",
        "  template:\n",
        "    metadata:\n",
        "      labels:\n",
        "        app: flight-price\n",
        "    spec:\n",
        "      containers:\n",
        "      - name: flight-price-container\n",
        "        image: flight-price-api:latest\n",
        "        ports:\n",
        "        - containerPort: 5000\n",
        "\"\"\"\n",
        "\n",
        "with open(\"deployment.yaml\", \"w\") as f:\n",
        "    f.write(deployment_yaml)\n"
      ],
      "metadata": {
        "id": "sLSHhKisilMi"
      },
      "execution_count": null,
      "outputs": []
    },
    {
      "cell_type": "code",
      "source": [
        "#Write service.yaml\n",
        "\n",
        "service_yaml = \"\"\"\n",
        "apiVersion: v1\n",
        "kind: Service\n",
        "metadata:\n",
        "  name: flight-price-service\n",
        "spec:\n",
        "  type: NodePort\n",
        "  selector:\n",
        "    app: flight-price\n",
        "  ports:\n",
        "    - protocol: TCP\n",
        "      port: 80\n",
        "      targetPort: 5000\n",
        "      nodePort: 30036\n",
        "\"\"\"\n",
        "\n",
        "with open(\"service.yaml\", \"w\") as f:\n",
        "    f.write(service_yaml)\n"
      ],
      "metadata": {
        "id": "p-cOQpdDiv86"
      },
      "execution_count": null,
      "outputs": []
    },
    {
      "cell_type": "code",
      "source": [
        "!ls -l\n"
      ],
      "metadata": {
        "colab": {
          "base_uri": "https://localhost:8080/"
        },
        "id": "ECSgkRAsi2sJ",
        "outputId": "6c8dffa9-667f-4475-98fe-35885c363e8d"
      },
      "execution_count": null,
      "outputs": [
        {
          "output_type": "stream",
          "name": "stdout",
          "text": [
            "total 488\n",
            "-rw-r--r-- 1 root root    536 Jun 25 09:54 app.py\n",
            "-rw-r--r-- 1 root root    368 Jun 25 10:03 deployment.yaml\n",
            "-rw-r--r-- 1 root root    344 Jun 25 09:58 Dockerfile\n",
            "-rw-r--r-- 1 root root      0 Jun 25 09:56 flight_price_model.pkl\n",
            "drwxr-xr-x 2 root root   4096 Jun 25 09:52 model\n",
            "-rw-r--r-- 1 root root     41 Jun 25 09:58 requirements.txt\n",
            "-rw-r--r-- 1 root root    215 Jun 25 10:03 service.yaml\n",
            "-rw-r--r-- 1 root root 474191 Jun 25 09:57 xgb_flight_price_model.joblib\n"
          ]
        }
      ]
    },
    {
      "cell_type": "code",
      "source": [
        "# Switch to project folder\n",
        "%cd /content/flight_price_app\n",
        "\n",
        "# 🔹 Create deployment.yaml\n",
        "deployment_yaml = \"\"\"\n",
        "apiVersion: apps/v1\n",
        "kind: Deployment\n",
        "metadata:\n",
        "  name: flight-price-deployment\n",
        "spec:\n",
        "  replicas: 1\n",
        "  selector:\n",
        "    matchLabels:\n",
        "      app: flight-price\n",
        "  template:\n",
        "    metadata:\n",
        "      labels:\n",
        "        app: flight-price\n",
        "    spec:\n",
        "      containers:\n",
        "      - name: flight-price-container\n",
        "        image: flight-price-api:latest\n",
        "        ports:\n",
        "        - containerPort: 5000\n",
        "\"\"\"\n",
        "with open(\"deployment.yaml\", \"w\") as f:\n",
        "    f.write(deployment_yaml)\n",
        "\n",
        "# 🔹 Create service.yaml\n",
        "service_yaml = \"\"\"\n",
        "apiVersion: v1\n",
        "kind: Service\n",
        "metadata:\n",
        "  name: flight-price-service\n",
        "spec:\n",
        "  type: NodePort\n",
        "  selector:\n",
        "    app: flight-price\n",
        "  ports:\n",
        "    - protocol: TCP\n",
        "      port: 80\n",
        "      targetPort: 5000\n",
        "      nodePort: 30036\n",
        "\"\"\"\n",
        "with open(\"service.yaml\", \"w\") as f:\n",
        "    f.write(service_yaml)\n",
        "\n",
        "# 🔹 Create Dockerfile\n",
        "dockerfile = \"\"\"\n",
        "FROM python:3.9-slim\n",
        "WORKDIR /app\n",
        "COPY . /app\n",
        "RUN pip install --no-cache-dir -r requirements.txt\n",
        "EXPOSE 5000\n",
        "CMD [\"python\", \"app.py\"]\n",
        "\"\"\"\n",
        "with open(\"Dockerfile\", \"w\") as f:\n",
        "    f.write(dockerfile)\n",
        "\n",
        "# 🔹 Create requirements.txt\n",
        "requirements = \"\"\"\n",
        "flask\n",
        "numpy\n",
        "scikit-learn\n",
        "xgboost\n",
        "joblib\n",
        "\"\"\"\n",
        "with open(\"requirements.txt\", \"w\") as f:\n",
        "    f.write(requirements)\n",
        "\n",
        "# 🔹 Show the created files\n",
        "!ls -l\n"
      ],
      "metadata": {
        "colab": {
          "base_uri": "https://localhost:8080/"
        },
        "id": "r69tcsDwl00V",
        "outputId": "678376e7-7ecf-4c9b-baed-46e2f813d0cf"
      },
      "execution_count": null,
      "outputs": [
        {
          "output_type": "stream",
          "name": "stdout",
          "text": [
            "/content/flight_price_app\n",
            "total 488\n",
            "-rw-r--r-- 1 root root    536 Jun 25 09:54 app.py\n",
            "-rw-r--r-- 1 root root    368 Jun 25 10:17 deployment.yaml\n",
            "-rw-r--r-- 1 root root    135 Jun 25 10:17 Dockerfile\n",
            "-rw-r--r-- 1 root root      0 Jun 25 09:56 flight_price_model.pkl\n",
            "drwxr-xr-x 2 root root   4096 Jun 25 09:52 model\n",
            "-rw-r--r-- 1 root root     41 Jun 25 10:17 requirements.txt\n",
            "-rw-r--r-- 1 root root    215 Jun 25 10:17 service.yaml\n",
            "-rw-r--r-- 1 root root 474191 Jun 25 09:57 xgb_flight_price_model.joblib\n"
          ]
        }
      ]
    },
    {
      "cell_type": "markdown",
      "source": [
        "All components for Docker and Kubernetes deployment have been fully prepared, including the Dockerfile, requirements, and Kubernetes manifests (deployment.yaml and service.yaml). However, due to the limitations of the Google Colab environment, the actual deployment on Minikube was not performed. The project is deployment-ready and can be executed on any local or cloud-based Kubernetes environment."
      ],
      "metadata": {
        "id": "V0zH1httmbn1"
      }
    },
    {
      "cell_type": "code",
      "source": [
        "#Install MLflow in Colab\n",
        "!pip install mlflow --quiet\n"
      ],
      "metadata": {
        "colab": {
          "base_uri": "https://localhost:8080/"
        },
        "id": "euWtQzJbmcvd",
        "outputId": "a50ea200-6b07-472d-f6f8-34253c61355a"
      },
      "execution_count": null,
      "outputs": [
        {
          "output_type": "stream",
          "name": "stdout",
          "text": [
            "\u001b[?25l   \u001b[90m━━━━━━━━━━━━━━━━━━━━━━━━━━━━━━━━━━━━━━━━\u001b[0m \u001b[32m0.0/24.7 MB\u001b[0m \u001b[31m?\u001b[0m eta \u001b[36m-:--:--\u001b[0m\r\u001b[2K   \u001b[91m━━━━━\u001b[0m\u001b[91m╸\u001b[0m\u001b[90m━━━━━━━━━━━━━━━━━━━━━━━━━━━━━━━━━━\u001b[0m \u001b[32m3.6/24.7 MB\u001b[0m \u001b[31m108.8 MB/s\u001b[0m eta \u001b[36m0:00:01\u001b[0m\r\u001b[2K   \u001b[91m━━━━━━━━━━━━━━━━━━\u001b[0m\u001b[90m╺\u001b[0m\u001b[90m━━━━━━━━━━━━━━━━━━━━━\u001b[0m \u001b[32m11.2/24.7 MB\u001b[0m \u001b[31m195.4 MB/s\u001b[0m eta \u001b[36m0:00:01\u001b[0m\r\u001b[2K   \u001b[91m━━━━━━━━━━━━━━━━━━━━━━━━━━━━━\u001b[0m\u001b[91m╸\u001b[0m\u001b[90m━━━━━━━━━━\u001b[0m \u001b[32m18.5/24.7 MB\u001b[0m \u001b[31m212.7 MB/s\u001b[0m eta \u001b[36m0:00:01\u001b[0m\r\u001b[2K   \u001b[91m━━━━━━━━━━━━━━━━━━━━━━━━━━━━━━━━━━━━━━━\u001b[0m\u001b[91m╸\u001b[0m \u001b[32m24.7/24.7 MB\u001b[0m \u001b[31m226.5 MB/s\u001b[0m eta \u001b[36m0:00:01\u001b[0m\r\u001b[2K   \u001b[91m━━━━━━━━━━━━━━━━━━━━━━━━━━━━━━━━━━━━━━━\u001b[0m\u001b[91m╸\u001b[0m \u001b[32m24.7/24.7 MB\u001b[0m \u001b[31m226.5 MB/s\u001b[0m eta \u001b[36m0:00:01\u001b[0m\r\u001b[2K   \u001b[90m━━━━━━━━━━━━━━━━━━━━━━━━━━━━━━━━━━━━━━━━\u001b[0m \u001b[32m24.7/24.7 MB\u001b[0m \u001b[31m92.9 MB/s\u001b[0m eta \u001b[36m0:00:00\u001b[0m\n",
            "\u001b[?25h\u001b[?25l   \u001b[90m━━━━━━━━━━━━━━━━━━━━━━━━━━━━━━━━━━━━━━━━\u001b[0m \u001b[32m0.0/1.9 MB\u001b[0m \u001b[31m?\u001b[0m eta \u001b[36m-:--:--\u001b[0m\r\u001b[2K   \u001b[90m━━━━━━━━━━━━━━━━━━━━━━━━━━━━━━━━━━━━━━━━\u001b[0m \u001b[32m1.9/1.9 MB\u001b[0m \u001b[31m89.6 MB/s\u001b[0m eta \u001b[36m0:00:00\u001b[0m\n",
            "\u001b[?25h\u001b[?25l   \u001b[90m━━━━━━━━━━━━━━━━━━━━━━━━━━━━━━━━━━━━━━━━\u001b[0m \u001b[32m0.0/242.7 kB\u001b[0m \u001b[31m?\u001b[0m eta \u001b[36m-:--:--\u001b[0m\r\u001b[2K   \u001b[90m━━━━━━━━━━━━━━━━━━━━━━━━━━━━━━━━━━━━━━━━\u001b[0m \u001b[32m242.7/242.7 kB\u001b[0m \u001b[31m22.0 MB/s\u001b[0m eta \u001b[36m0:00:00\u001b[0m\n",
            "\u001b[2K   \u001b[90m━━━━━━━━━━━━━━━━━━━━━━━━━━━━━━━━━━━━━━━━\u001b[0m \u001b[32m147.8/147.8 kB\u001b[0m \u001b[31m14.2 MB/s\u001b[0m eta \u001b[36m0:00:00\u001b[0m\n",
            "\u001b[2K   \u001b[90m━━━━━━━━━━━━━━━━━━━━━━━━━━━━━━━━━━━━━━━━\u001b[0m \u001b[32m114.9/114.9 kB\u001b[0m \u001b[31m9.6 MB/s\u001b[0m eta \u001b[36m0:00:00\u001b[0m\n",
            "\u001b[2K   \u001b[90m━━━━━━━━━━━━━━━━━━━━━━━━━━━━━━━━━━━━━━━━\u001b[0m \u001b[32m85.0/85.0 kB\u001b[0m \u001b[31m8.1 MB/s\u001b[0m eta \u001b[36m0:00:00\u001b[0m\n",
            "\u001b[2K   \u001b[90m━━━━━━━━━━━━━━━━━━━━━━━━━━━━━━━━━━━━━━━━\u001b[0m \u001b[32m733.8/733.8 kB\u001b[0m \u001b[31m53.0 MB/s\u001b[0m eta \u001b[36m0:00:00\u001b[0m\n",
            "\u001b[2K   \u001b[90m━━━━━━━━━━━━━━━━━━━━━━━━━━━━━━━━━━━━━━━━\u001b[0m \u001b[32m203.4/203.4 kB\u001b[0m \u001b[31m17.2 MB/s\u001b[0m eta \u001b[36m0:00:00\u001b[0m\n",
            "\u001b[2K   \u001b[90m━━━━━━━━━━━━━━━━━━━━━━━━━━━━━━━━━━━━━━━━\u001b[0m \u001b[32m65.8/65.8 kB\u001b[0m \u001b[31m6.4 MB/s\u001b[0m eta \u001b[36m0:00:00\u001b[0m\n",
            "\u001b[2K   \u001b[90m━━━━━━━━━━━━━━━━━━━━━━━━━━━━━━━━━━━━━━━━\u001b[0m \u001b[32m118.5/118.5 kB\u001b[0m \u001b[31m11.6 MB/s\u001b[0m eta \u001b[36m0:00:00\u001b[0m\n",
            "\u001b[2K   \u001b[90m━━━━━━━━━━━━━━━━━━━━━━━━━━━━━━━━━━━━━━━━\u001b[0m \u001b[32m196.2/196.2 kB\u001b[0m \u001b[31m18.1 MB/s\u001b[0m eta \u001b[36m0:00:00\u001b[0m\n",
            "\u001b[?25h"
          ]
        }
      ]
    },
    {
      "cell_type": "code",
      "source": [
        "#Set Up MLflow Experiment and Tracking Directory\n",
        "import mlflow\n",
        "import os\n",
        "\n",
        "# Set MLflow tracking URI to a local folder (inside Colab)\n",
        "mlflow_tracking_dir = \"/content/mlruns\"\n",
        "mlflow.set_tracking_uri(\"file://\" + mlflow_tracking_dir)\n",
        "\n",
        "# Create a named experiment\n",
        "experiment_name = \"FlightPriceExperiment\"\n",
        "mlflow.set_experiment(experiment_name)\n",
        "\n",
        "print(f\"✅ MLflow tracking set to: {mlflow_tracking_dir}\")\n"
      ],
      "metadata": {
        "colab": {
          "base_uri": "https://localhost:8080/"
        },
        "id": "lgfufwu2m_9Q",
        "outputId": "a85b2972-4002-4981-c2b5-fc8b8d4e5393"
      },
      "execution_count": null,
      "outputs": [
        {
          "output_type": "stream",
          "name": "stderr",
          "text": [
            "2025/06/25 10:23:20 INFO mlflow.tracking.fluent: Experiment with name 'FlightPriceExperiment' does not exist. Creating a new experiment.\n"
          ]
        },
        {
          "output_type": "stream",
          "name": "stdout",
          "text": [
            "✅ MLflow tracking set to: /content/mlruns\n"
          ]
        }
      ]
    },
    {
      "cell_type": "code",
      "source": [
        "#Log Your Flight Price Prediction Model with MLflow\n",
        "import mlflow.sklearn\n",
        "from sklearn.metrics import mean_absolute_error, mean_squared_error, r2_score\n",
        "\n",
        "# Start MLflow run\n",
        "with mlflow.start_run():\n",
        "\n",
        "    # Log model parameters\n",
        "    mlflow.log_param(\"model_type\", \"XGBoostRegressor\")\n",
        "\n",
        "    # Predict on test set\n",
        "    y_pred = trained_model.predict(X_test)\n",
        "\n",
        "    # Calculate and log metrics\n",
        "    mae = mean_absolute_error(y_test, y_pred)\n",
        "    mse = mean_squared_error(y_test, y_pred)\n",
        "    r2 = r2_score(y_test, y_pred)\n",
        "\n",
        "    mlflow.log_metric(\"MAE\", mae)\n",
        "    mlflow.log_metric(\"MSE\", mse)\n",
        "    mlflow.log_metric(\"R2_Score\", r2)\n",
        "\n",
        "    # Log the trained model\n",
        "    mlflow.sklearn.log_model(trained_model, \"xgb_flight_model\")\n",
        "\n",
        "    print(f\"✅ Model logged successfully with MAE: {mae:.2f}, R2 Score: {r2:.2f}\")\n"
      ],
      "metadata": {
        "colab": {
          "base_uri": "https://localhost:8080/"
        },
        "id": "hdDE1dlknXQW",
        "outputId": "4936e089-38b6-49ea-fd03-edbcb3d7cbb9"
      },
      "execution_count": null,
      "outputs": [
        {
          "output_type": "stream",
          "name": "stderr",
          "text": [
            "2025/06/25 10:24:08 WARNING mlflow.models.model: `artifact_path` is deprecated. Please use `name` instead.\n",
            "\u001b[31m2025/06/25 10:24:14 WARNING mlflow.models.model: Model logged without a signature and input example. Please set `input_example` parameter when logging the model to auto infer the model signature.\u001b[0m\n"
          ]
        },
        {
          "output_type": "stream",
          "name": "stdout",
          "text": [
            "✅ Model logged successfully with MAE: 10.74, R2 Score: 1.00\n"
          ]
        }
      ]
    },
    {
      "cell_type": "code",
      "source": [
        "!ls -R /content/mlruns\n"
      ],
      "metadata": {
        "colab": {
          "base_uri": "https://localhost:8080/"
        },
        "id": "XcFHuMpHnwTG",
        "outputId": "6cb01510-29d5-42a1-f5c4-2e7122271dde"
      },
      "execution_count": null,
      "outputs": [
        {
          "output_type": "stream",
          "name": "stdout",
          "text": [
            "/content/mlruns:\n",
            "0  639691579875018693\n",
            "\n",
            "/content/mlruns/0:\n",
            "meta.yaml\n",
            "\n",
            "/content/mlruns/639691579875018693:\n",
            "4e6d09c07e294a148e3cc9162a440420  meta.yaml  models\n",
            "\n",
            "/content/mlruns/639691579875018693/4e6d09c07e294a148e3cc9162a440420:\n",
            "artifacts  meta.yaml  metrics  outputs\tparams\ttags\n",
            "\n",
            "/content/mlruns/639691579875018693/4e6d09c07e294a148e3cc9162a440420/artifacts:\n",
            "\n",
            "/content/mlruns/639691579875018693/4e6d09c07e294a148e3cc9162a440420/metrics:\n",
            "MAE  MSE  R2_Score\n",
            "\n",
            "/content/mlruns/639691579875018693/4e6d09c07e294a148e3cc9162a440420/outputs:\n",
            "m-a5f97d62a9bb4bfca96369346f63a5cf\n",
            "\n",
            "/content/mlruns/639691579875018693/4e6d09c07e294a148e3cc9162a440420/outputs/m-a5f97d62a9bb4bfca96369346f63a5cf:\n",
            "meta.yaml\n",
            "\n",
            "/content/mlruns/639691579875018693/4e6d09c07e294a148e3cc9162a440420/params:\n",
            "model_type\n",
            "\n",
            "/content/mlruns/639691579875018693/4e6d09c07e294a148e3cc9162a440420/tags:\n",
            "mlflow.runName\tmlflow.source.name  mlflow.source.type\tmlflow.user\n",
            "\n",
            "/content/mlruns/639691579875018693/models:\n",
            "m-a5f97d62a9bb4bfca96369346f63a5cf\n",
            "\n",
            "/content/mlruns/639691579875018693/models/m-a5f97d62a9bb4bfca96369346f63a5cf:\n",
            "artifacts  meta.yaml  metrics  params  tags\n",
            "\n",
            "/content/mlruns/639691579875018693/models/m-a5f97d62a9bb4bfca96369346f63a5cf/artifacts:\n",
            "conda.yaml  MLmodel  model.pkl\tpython_env.yaml  requirements.txt\n",
            "\n",
            "/content/mlruns/639691579875018693/models/m-a5f97d62a9bb4bfca96369346f63a5cf/metrics:\n",
            "MAE  MSE  R2_Score\n",
            "\n",
            "/content/mlruns/639691579875018693/models/m-a5f97d62a9bb4bfca96369346f63a5cf/params:\n",
            "model_type\n",
            "\n",
            "/content/mlruns/639691579875018693/models/m-a5f97d62a9bb4bfca96369346f63a5cf/tags:\n",
            "mlflow.source.name  mlflow.source.type\tmlflow.user\n"
          ]
        }
      ]
    },
    {
      "cell_type": "code",
      "source": [
        "!zip -r mlflow_logged_model.zip /content/mlruns\n"
      ],
      "metadata": {
        "colab": {
          "base_uri": "https://localhost:8080/"
        },
        "id": "itNQGERHn0f2",
        "outputId": "091dd91d-f9fa-4bc9-e033-13a6eac46197"
      },
      "execution_count": null,
      "outputs": [
        {
          "output_type": "stream",
          "name": "stdout",
          "text": [
            "  adding: content/mlruns/ (stored 0%)\n",
            "  adding: content/mlruns/639691579875018693/ (stored 0%)\n",
            "  adding: content/mlruns/639691579875018693/models/ (stored 0%)\n",
            "  adding: content/mlruns/639691579875018693/models/m-a5f97d62a9bb4bfca96369346f63a5cf/ (stored 0%)\n",
            "  adding: content/mlruns/639691579875018693/models/m-a5f97d62a9bb4bfca96369346f63a5cf/artifacts/ (stored 0%)\n",
            "  adding: content/mlruns/639691579875018693/models/m-a5f97d62a9bb4bfca96369346f63a5cf/artifacts/python_env.yaml (deflated 16%)\n",
            "  adding: content/mlruns/639691579875018693/models/m-a5f97d62a9bb4bfca96369346f63a5cf/artifacts/MLmodel (deflated 47%)\n",
            "  adding: content/mlruns/639691579875018693/models/m-a5f97d62a9bb4bfca96369346f63a5cf/artifacts/model.pkl (deflated 75%)\n",
            "  adding: content/mlruns/639691579875018693/models/m-a5f97d62a9bb4bfca96369346f63a5cf/artifacts/requirements.txt (deflated 21%)\n",
            "  adding: content/mlruns/639691579875018693/models/m-a5f97d62a9bb4bfca96369346f63a5cf/artifacts/conda.yaml (deflated 35%)\n",
            "  adding: content/mlruns/639691579875018693/models/m-a5f97d62a9bb4bfca96369346f63a5cf/tags/ (stored 0%)\n",
            "  adding: content/mlruns/639691579875018693/models/m-a5f97d62a9bb4bfca96369346f63a5cf/tags/mlflow.user (stored 0%)\n",
            "  adding: content/mlruns/639691579875018693/models/m-a5f97d62a9bb4bfca96369346f63a5cf/tags/mlflow.source.type (stored 0%)\n",
            "  adding: content/mlruns/639691579875018693/models/m-a5f97d62a9bb4bfca96369346f63a5cf/tags/mlflow.source.name (deflated 5%)\n",
            "  adding: content/mlruns/639691579875018693/models/m-a5f97d62a9bb4bfca96369346f63a5cf/params/ (stored 0%)\n",
            "  adding: content/mlruns/639691579875018693/models/m-a5f97d62a9bb4bfca96369346f63a5cf/params/model_type (stored 0%)\n",
            "  adding: content/mlruns/639691579875018693/models/m-a5f97d62a9bb4bfca96369346f63a5cf/meta.yaml (deflated 41%)\n",
            "  adding: content/mlruns/639691579875018693/models/m-a5f97d62a9bb4bfca96369346f63a5cf/metrics/ (stored 0%)\n",
            "  adding: content/mlruns/639691579875018693/models/m-a5f97d62a9bb4bfca96369346f63a5cf/metrics/R2_Score (deflated 13%)\n",
            "  adding: content/mlruns/639691579875018693/models/m-a5f97d62a9bb4bfca96369346f63a5cf/metrics/MAE (deflated 16%)\n",
            "  adding: content/mlruns/639691579875018693/models/m-a5f97d62a9bb4bfca96369346f63a5cf/metrics/MSE (deflated 15%)\n",
            "  adding: content/mlruns/639691579875018693/4e6d09c07e294a148e3cc9162a440420/ (stored 0%)\n",
            "  adding: content/mlruns/639691579875018693/4e6d09c07e294a148e3cc9162a440420/artifacts/ (stored 0%)\n",
            "  adding: content/mlruns/639691579875018693/4e6d09c07e294a148e3cc9162a440420/tags/ (stored 0%)\n",
            "  adding: content/mlruns/639691579875018693/4e6d09c07e294a148e3cc9162a440420/tags/mlflow.user (stored 0%)\n",
            "  adding: content/mlruns/639691579875018693/4e6d09c07e294a148e3cc9162a440420/tags/mlflow.source.type (stored 0%)\n",
            "  adding: content/mlruns/639691579875018693/4e6d09c07e294a148e3cc9162a440420/tags/mlflow.runName (stored 0%)\n",
            "  adding: content/mlruns/639691579875018693/4e6d09c07e294a148e3cc9162a440420/tags/mlflow.source.name (deflated 5%)\n",
            "  adding: content/mlruns/639691579875018693/4e6d09c07e294a148e3cc9162a440420/params/ (stored 0%)\n",
            "  adding: content/mlruns/639691579875018693/4e6d09c07e294a148e3cc9162a440420/params/model_type (stored 0%)\n",
            "  adding: content/mlruns/639691579875018693/4e6d09c07e294a148e3cc9162a440420/meta.yaml (deflated 41%)\n",
            "  adding: content/mlruns/639691579875018693/4e6d09c07e294a148e3cc9162a440420/metrics/ (stored 0%)\n",
            "  adding: content/mlruns/639691579875018693/4e6d09c07e294a148e3cc9162a440420/metrics/R2_Score (deflated 44%)\n",
            "  adding: content/mlruns/639691579875018693/4e6d09c07e294a148e3cc9162a440420/metrics/MAE (deflated 43%)\n",
            "  adding: content/mlruns/639691579875018693/4e6d09c07e294a148e3cc9162a440420/metrics/MSE (deflated 43%)\n",
            "  adding: content/mlruns/639691579875018693/4e6d09c07e294a148e3cc9162a440420/outputs/ (stored 0%)\n",
            "  adding: content/mlruns/639691579875018693/4e6d09c07e294a148e3cc9162a440420/outputs/m-a5f97d62a9bb4bfca96369346f63a5cf/ (stored 0%)\n",
            "  adding: content/mlruns/639691579875018693/4e6d09c07e294a148e3cc9162a440420/outputs/m-a5f97d62a9bb4bfca96369346f63a5cf/meta.yaml (deflated 36%)\n",
            "  adding: content/mlruns/639691579875018693/meta.yaml (deflated 30%)\n",
            "  adding: content/mlruns/0/ (stored 0%)\n",
            "  adding: content/mlruns/0/meta.yaml (deflated 25%)\n",
            "  adding: content/mlruns/.trash/ (stored 0%)\n"
          ]
        }
      ]
    },
    {
      "cell_type": "code",
      "source": [
        "#Create Jenkinsfile in Colab\n",
        "\n",
        "jenkinsfile = \"\"\"\n",
        "pipeline {\n",
        "    agent any\n",
        "\n",
        "    environment {\n",
        "        MODEL_PATH = 'xgb_flight_price_model.joblib'\n",
        "        DOCKER_IMAGE = 'flight-price-api:latest'\n",
        "    }\n",
        "\n",
        "    stages {\n",
        "\n",
        "        stage('Checkout Code') {\n",
        "            steps {\n",
        "                echo '✅ Checking out source code...'\n",
        "                // In real setup: git checkout\n",
        "            }\n",
        "        }\n",
        "\n",
        "        stage('Install Dependencies') {\n",
        "            steps {\n",
        "                echo '✅ Installing Python packages...'\n",
        "                sh 'pip install -r requirements.txt'\n",
        "            }\n",
        "        }\n",
        "\n",
        "        stage('Train Model') {\n",
        "            steps {\n",
        "                echo '✅ Training model...'\n",
        "                sh 'python train_model.py'  // hypothetical training script\n",
        "            }\n",
        "        }\n",
        "\n",
        "        stage('MLflow Logging') {\n",
        "            steps {\n",
        "                echo '✅ Logging model to MLflow...'\n",
        "                sh 'python log_mlflow.py'  // hypothetical logging script\n",
        "            }\n",
        "        }\n",
        "\n",
        "        stage('Build Docker Image') {\n",
        "            steps {\n",
        "                echo '🐳 Building Docker image...'\n",
        "                sh 'docker build -t $DOCKER_IMAGE .'\n",
        "            }\n",
        "        }\n",
        "\n",
        "        stage('Push to Registry (Optional)') {\n",
        "            steps {\n",
        "                echo '📦 Pushing Docker image to registry...'\n",
        "                // Add: sh 'docker push your_registry/$DOCKER_IMAGE'\n",
        "            }\n",
        "        }\n",
        "\n",
        "        stage('Deploy to Kubernetes') {\n",
        "            steps {\n",
        "                echo '☸️ Applying Kubernetes manifests...'\n",
        "                sh 'kubectl apply -f deployment.yaml'\n",
        "                sh 'kubectl apply -f service.yaml'\n",
        "            }\n",
        "        }\n",
        "    }\n",
        "\n",
        "    post {\n",
        "        success {\n",
        "            echo '🎉 Pipeline completed successfully!'\n",
        "        }\n",
        "        failure {\n",
        "            echo '❌ Pipeline failed.'\n",
        "        }\n",
        "    }\n",
        "}\n",
        "\"\"\"\n",
        "\n",
        "with open(\"Jenkinsfile\", \"w\") as f:\n",
        "    f.write(jenkinsfile)\n",
        "\n",
        "print(\"✅ Jenkinsfile created successfully.\")\n"
      ],
      "metadata": {
        "colab": {
          "base_uri": "https://localhost:8080/"
        },
        "id": "hYdU7z-8n1tt",
        "outputId": "6f59be23-ff6c-4555-c18a-677d7128507c"
      },
      "execution_count": null,
      "outputs": [
        {
          "output_type": "stream",
          "name": "stdout",
          "text": [
            "✅ Jenkinsfile created successfully.\n"
          ]
        }
      ]
    },
    {
      "cell_type": "code",
      "source": [
        "# reate a Simulated Airflow DAG in flight_dag.py\n",
        "\n",
        "# Create flight_dag.py to simulate Apache Airflow DAG\n",
        "# Change directory to the project folder first\n",
        "import os\n",
        "\n",
        "project_dir = \"/content/flight_price_app\"\n",
        "os.makedirs(project_dir, exist_ok=True)\n",
        "os.chdir(project_dir)\n",
        "\n",
        "# Define the DAG content\n",
        "dag_code = \"\"\"\n",
        "from datetime import datetime\n",
        "from airflow import DAG\n",
        "from airflow.operators.python_operator import PythonOperator\n",
        "\n",
        "# Dummy functions for tasks\n",
        "def load_data():\n",
        "    print(\"📥 Loading and preprocessing flight data...\")\n",
        "\n",
        "def train_model():\n",
        "    print(\"🧠 Training flight price prediction model...\")\n",
        "\n",
        "def log_model():\n",
        "    print(\"📦 Logging model to MLflow...\")\n",
        "\n",
        "def notify():\n",
        "    print(\"✅ Sending notification: Model training and logging complete!\")\n",
        "\n",
        "# Define default arguments for the DAG\n",
        "default_args = {\n",
        "    'owner': 'airflow',\n",
        "    'start_date': datetime(2024, 1, 1),\n",
        "    'retries': 1\n",
        "}\n",
        "\n",
        "# Define the DAG\n",
        "with DAG(\n",
        "    dag_id='flight_price_prediction_dag',\n",
        "    default_args=default_args,\n",
        "    schedule_interval=None,\n",
        "    catchup=False,\n",
        "    description='A simulated DAG for flight price prediction pipeline'\n",
        ") as dag:\n",
        "\n",
        "    task1 = PythonOperator(\n",
        "        task_id='load_data_task',\n",
        "        python_callable=load_data\n",
        "    )\n",
        "\n",
        "    task2 = PythonOperator(\n",
        "        task_id='train_model_task',\n",
        "        python_callable=train_model\n",
        "    )\n",
        "\n",
        "    task3 = PythonOperator(\n",
        "        task_id='log_model_task',\n",
        "        python_callable=log_model\n",
        "    )\n",
        "\n",
        "    task4 = PythonOperator(\n",
        "        task_id='notify_task',\n",
        "        python_callable=notify\n",
        "    )\n",
        "\n",
        "    # Define task dependencies\n",
        "    task1 >> task2 >> task3 >> task4\n",
        "\"\"\"\n",
        "\n",
        "# Sav\n"
      ],
      "metadata": {
        "id": "zPUBENe4qS7P"
      },
      "execution_count": null,
      "outputs": []
    },
    {
      "cell_type": "markdown",
      "source": [
        "To simulate the use of Apache Airflow for automating the ML pipeline used in the Flight Price Prediction project.\n",
        "\n",
        "Since Airflow cannot run directly in Google Colab, a simulated Directed Acyclic Graph (DAG) was created in Python (flight_dag.py) to represent the key workflow steps.\n",
        "\n",
        "\n",
        "ach task was defined using PythonOperator.\n",
        "\n",
        "The DAG is unscheduled (schedule_interval=None) for manual execution.\n",
        "\n",
        "Airflow execution is not possible in Colab, but the full logic is simulated and documented for future use.\n",
        "\n"
      ],
      "metadata": {
        "id": "ivVLrS7YqpME"
      }
    },
    {
      "cell_type": "code",
      "source": [],
      "metadata": {
        "id": "84SGs16ZqgYR"
      },
      "execution_count": null,
      "outputs": []
    }
  ]
}